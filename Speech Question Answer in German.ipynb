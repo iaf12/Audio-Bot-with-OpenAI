{
 "cells": [
  {
   "cell_type": "code",
   "execution_count": 71,
   "id": "00d4280b-c202-4afa-bed5-b7ef62292a9b",
   "metadata": {},
   "outputs": [],
   "source": [
    "# !pip install --upgrade transformers\n",
    "\n",
    "# !pip install openai-whisper pydub\n"
   ]
  },
  {
   "cell_type": "code",
   "execution_count": 75,
   "id": "bc91e291-e0cf-4057-a6c4-45de7d069351",
   "metadata": {},
   "outputs": [],
   "source": [
    "# !pip install SpeechRecognition pyaudio\n"
   ]
  },
  {
   "cell_type": "code",
   "execution_count": 5,
   "id": "6f24136e-664b-452c-9533-cbc1d56374a9",
   "metadata": {},
   "outputs": [],
   "source": [
    "# import speech_recognition as sr\n",
    "\n",
    "# def speech_to_text_google():\n",
    "#     # Initialize the recognizer\n",
    "#     recognizer = sr.Recognizer()\n",
    "\n",
    "#     # Use the microphone as the source of input\n",
    "#     with sr.Microphone() as source:\n",
    "#         print(\"Please speak...\")\n",
    "#         audio_data = recognizer.listen(source)\n",
    "        \n",
    "#         try:\n",
    "#             # Recognize speech using Google Speech Recognition\n",
    "#             text = recognizer.recognize_google(audio_data, language='de-DE')  # 'de-DE' for German\n",
    "#             return text\n",
    "#         except sr.UnknownValueError:\n",
    "#             return \"Google Speech Recognition could not understand audio\"\n",
    "#         except sr.RequestError as e:\n",
    "#             return f\"Could not request results; {e}\"\n",
    "\n",
    "# # Example usage\n",
    "# transcribed_text = speech_to_text_google()\n",
    "# print(transcribed_text)\n"
   ]
  },
  {
   "cell_type": "markdown",
   "id": "85d5b7ce-dafd-4891-86a7-7fb691d434ad",
   "metadata": {},
   "source": [
    "## speech to text"
   ]
  },
  {
   "cell_type": "code",
   "execution_count": 3,
   "id": "a3618ef8-c52b-428a-bcff-380184674048",
   "metadata": {},
   "outputs": [
    {
     "name": "stdout",
     "output_type": "stream",
     "text": [
      "ich habe viele Hobbys in meiner Freizeit mache ich sehr gerne Sport wie zum Beispiel Ball oder Radfahren außerdem lese ich gerne und lerne auch gerne Fremdsprachen ich gehe gerne ins Kino höre gerne Musik und treffe mich mit meinen Freunden früher habe ich auch viel Basketball gespielt im Frühling und im Sommer werde ich viele Radtouren machen außerdem werde ich viel schwimmen gehen am liebsten würde ich das natürlich immer machen\n"
     ]
    }
   ],
   "source": [
    "import speech_recognition as sr\n",
    "\n",
    "def speech_to_text_google(audio_file_path):\n",
    "    # Initialize the recognizer\n",
    "    recognizer = sr.Recognizer()\n",
    "\n",
    "    # Load the audio file as the source\n",
    "    with sr.AudioFile(audio_file_path) as source:\n",
    "        audio_data = recognizer.record(source)  # Record the entire audio file\n",
    "        \n",
    "        try:\n",
    "            # Recognize speech using Google Speech Recognition\n",
    "            text = recognizer.recognize_google(audio_data, language='de-DE')  # 'de-DE' for German\n",
    "            return text\n",
    "        except sr.UnknownValueError:\n",
    "            return \"Google Speech Recognition could not understand audio\"\n",
    "        except sr.RequestError as e:\n",
    "            return f\"Could not request results; {e}\"\n",
    "\n",
    "# Example usage\n",
    "audio_path = \"output2.wav\"  # Provide the path to the audio file\n",
    "transcribed_text = speech_to_text_google(audio_path)\n",
    "print(transcribed_text)\n"
   ]
  },
  {
   "cell_type": "code",
   "execution_count": null,
   "id": "3ba76630-e6c3-4a3a-9f03-501615899290",
   "metadata": {},
   "outputs": [],
   "source": []
  },
  {
   "cell_type": "markdown",
   "id": "f77df0d2-a3e3-487b-955c-fe91b917aceb",
   "metadata": {},
   "source": [
    "## Main Code"
   ]
  },
  {
   "cell_type": "code",
   "execution_count": 8,
   "id": "022db770-26a0-48a7-b6f6-72a72fbbec43",
   "metadata": {},
   "outputs": [],
   "source": []
  },
  {
   "cell_type": "code",
   "execution_count": 14,
   "id": "87cc5415-3a99-48a9-b890-f573b118380a",
   "metadata": {},
   "outputs": [],
   "source": [
    "\n",
    "\n",
    "import speech_recognition as sr\n",
    "import pyttsx3\n",
    "import openai\n",
    "\n",
    "# Set up the OpenAI GPT API\n",
    "openai.api_key =  OpenAI_api_key # Replace with your API key\n",
    "\n",
    "# Function to convert speech to text using Google Speech Recognition\n",
    "def speech_to_text_google(audio_file_path):\n",
    "    recognizer = sr.Recognizer()\n",
    "    with sr.AudioFile(audio_file_path) as source:\n",
    "        audio_data = recognizer.record(source)\n",
    "        try:\n",
    "            text = recognizer.recognize_google(audio_data, language='de-DE')  # Recognize German\n",
    "            return text\n",
    "        except sr.UnknownValueError:\n",
    "            return \"Google Speech Recognition could not understand audio\"\n",
    "        except sr.RequestError as e:\n",
    "            return f\"Could not request results; {e}\"\n",
    "\n",
    "# Function to get a response from GPT using the chat model\n",
    "def get_gpt_response(prompt):\n",
    "    response = openai.ChatCompletion.create(\n",
    "        model=\"gpt-3.5-turbo\",  # You can also use 'gpt-4' if available\n",
    "        messages=[\n",
    "            {\"role\": \"system\", \"content\": \"You are an assistant that answers questions in German.\"},\n",
    "            {\"role\": \"user\", \"content\": prompt}\n",
    "        ]\n",
    "    )\n",
    "    return response['choices'][0]['message']['content'].strip()\n",
    "\n",
    "# Function to convert text to speech using pyttsx3\n",
    "def text_to_speech_german(text):\n",
    "    engine = pyttsx3.init()\n",
    "    voices = engine.getProperty('voices')\n",
    "    \n",
    "    # Set German voice if available\n",
    "    for voice in voices:\n",
    "        if 'german' in voice.languages:\n",
    "            engine.setProperty('voice', voice.id)\n",
    "            break\n",
    "    \n",
    "    engine.say(text)\n",
    "    engine.runAndWait()\n",
    "\n",
    "# Main workflow function\n",
    "def process_speech_and_respond(audio_file_path):\n",
    "    # Step 1: Convert speech to text (German input)\n",
    "    input_text = speech_to_text_google(audio_file_path)\n",
    "    print(f\"Recognized speech: {input_text}\")\n",
    "    \n",
    "    if \"Google Speech Recognition\" in input_text:\n",
    "        print(\"Error in speech recognition\")\n",
    "        return\n",
    "    \n",
    "    # Step 2: Get GPT response in text\n",
    "    gpt_response = get_gpt_response(input_text)\n",
    "    print(f\"GPT Response: {gpt_response}\")\n",
    "    \n",
    "    # Step 3: Convert GPT response to speech\n",
    "    text_to_speech_german(gpt_response)\n",
    "\n",
    "# Example usage\n",
    "audio_path = \"output2.wav\"  # Path to the recorded German question\n",
    "process_speech_and_respond(audio_path)\n"
   ]
  },
  {
   "cell_type": "code",
   "execution_count": null,
   "id": "c8eb5ca3-684d-44bf-a125-1f7259604bf8",
   "metadata": {},
   "outputs": [],
   "source": []
  },
  {
   "cell_type": "markdown",
   "id": "2475c15c-8597-4e60-994d-b0550e4a28a5",
   "metadata": {},
   "source": [
    "## text to speech"
   ]
  },
  {
   "cell_type": "code",
   "execution_count": 61,
   "id": "5397e057-8283-4b5b-821c-318dfa1f89dd",
   "metadata": {},
   "outputs": [],
   "source": [
    "import pyttsx3\n",
    "\n",
    "def text_to_speech_german(text):\n",
    "    # Initialize the TTS engine\n",
    "    engine = pyttsx3.init()\n",
    "\n",
    "    # Set properties - you can set a German voice if it's installed on your system\n",
    "    voices = engine.getProperty('voices')\n",
    "    for voice in voices:\n",
    "        if 'german' in voice.languages:\n",
    "            engine.setProperty('voice', voice.id)\n",
    "            break\n",
    "\n",
    "    # Convert text to speech\n",
    "    engine.say(text)\n",
    "    engine.runAndWait()\n",
    "\n",
    "# Example usage\n",
    "text = \"ich habe viele Hobbys in meiner Freizeit mache ich sehr gerne Sport wie zum Beispiel Ball oder Radfahren außerdem lese ich gerne und lerne auch gerne Fremdsprachen ich gehe gerne ins Kino höre gerne Musik und treffe mich mit meinen Freunden früher habe ich auch viel Basketball gespielt im Frühling und im Sommer werde ich viele Radtouren machen außerdem werde ich viel schwimmen gehen am liebsten würde ich das natürlich immer machen\"\n",
    "text_to_speech_german(text)\n"
   ]
  }
 ],
 "metadata": {
  "kernelspec": {
   "display_name": "Python 3 (ipykernel)",
   "language": "python",
   "name": "python3"
  },
  "language_info": {
   "codemirror_mode": {
    "name": "ipython",
    "version": 3
   },
   "file_extension": ".py",
   "mimetype": "text/x-python",
   "name": "python",
   "nbconvert_exporter": "python",
   "pygments_lexer": "ipython3",
   "version": "3.12.3"
  }
 },
 "nbformat": 4,
 "nbformat_minor": 5
}
